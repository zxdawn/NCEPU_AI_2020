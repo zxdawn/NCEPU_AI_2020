{
 "cells": [
  {
   "cell_type": "markdown",
   "metadata": {},
   "source": [
    "$$h_t = f(x_t + h_{t-1})$$"
   ]
  },
  {
   "cell_type": "markdown",
   "metadata": {},
   "source": [
    "$W_{xh}$ = U, $W_{hh}$ = W, $b_h$: bias\n",
    "\n",
    "$\\sigma$: sigmoid, activation function"
   ]
  },
  {
   "cell_type": "markdown",
   "metadata": {},
   "source": [
    "$s_t$ == $h_t$, h = hidden layer, s = state\n",
    "\n",
    "State at specific time is the output of hidden layer"
   ]
  },
  {
   "cell_type": "markdown",
   "metadata": {},
   "source": [
    "$$h_t = \\sigma(Ux_t + Wh_{t-1} + b_h)$$"
   ]
  },
  {
   "cell_type": "code",
   "execution_count": 1,
   "metadata": {},
   "outputs": [],
   "source": [
    "import numpy as np\n",
    "\n",
    "import tensorflow as tf"
   ]
  },
  {
   "cell_type": "code",
   "execution_count": 2,
   "metadata": {},
   "outputs": [],
   "source": [
    "inputs = np.random.random(size = (32,28,32)).astype(np.float32)  # random numbers between 0 and 1"
   ]
  },
  {
   "cell_type": "markdown",
   "metadata": {},
   "source": [
    "32 samples, 28 time series\n",
    "$$x_1,x_2,……x_t,……x_{28}$$  \n",
    "each time series has 32 characteristics"
   ]
  },
  {
   "cell_type": "markdown",
   "metadata": {},
   "source": [
    "![](https://pic2.zhimg.com/80/v2-b0175ebd3419f9a11a3d0d8b00e28675_1440w.jpg)"
   ]
  },
  {
   "cell_type": "code",
   "execution_count": 3,
   "metadata": {},
   "outputs": [
    {
     "name": "stdout",
     "output_type": "stream",
     "text": [
      "(32, 28, 16) (32, 16)\n"
     ]
    }
   ],
   "source": [
    "rnn = tf.keras.layers.SimpleRNN(16, # 16 neurons\n",
    "                                    activation = tf.nn.tanh,\n",
    "                                    return_sequences = True,# return data at every time step\n",
    "                                    return_state = True) # return the last result\n",
    "sequences,state = rnn(inputs) # sequences: results in the process, state: result\n",
    "\n",
    "# last output\n",
    "print(sequences.shape,state.shape)"
   ]
  },
  {
   "cell_type": "code",
   "execution_count": 4,
   "metadata": {
    "scrolled": true
   },
   "outputs": [
    {
     "data": {
      "text/plain": [
       "<tf.Tensor: shape=(2, 16), dtype=float32, numpy=\n",
       "array([[-0.25664946, -0.7416231 , -0.26449808, -0.01215898,  0.66506153,\n",
       "        -0.38297573,  0.70326364,  0.5076195 , -0.30021602,  0.23183618,\n",
       "         0.0272775 ,  0.88940847, -0.95251817, -0.83762103,  0.8778303 ,\n",
       "        -0.06520741],\n",
       "       [-0.27784014, -0.9176324 ,  0.04051448,  0.50965625,  0.60097754,\n",
       "         0.2909992 ,  0.81932956, -0.5233518 , -0.24118832,  0.566046  ,\n",
       "        -0.10446535,  0.877389  ,  0.00388835, -0.25564942,  0.733724  ,\n",
       "        -0.7329151 ]], dtype=float32)>"
      ]
     },
     "execution_count": 4,
     "metadata": {},
     "output_type": "execute_result"
    }
   ],
   "source": [
    "sequences[:,-1][:2]"
   ]
  },
  {
   "cell_type": "code",
   "execution_count": 55,
   "metadata": {},
   "outputs": [
    {
     "data": {
      "text/plain": [
       "<tf.Tensor: shape=(2, 16), dtype=float32, numpy=\n",
       "array([[ 0.4970446 , -0.8579154 ,  0.72851974,  0.40602782,  0.53389853,\n",
       "        -0.80420357,  0.7127699 ,  0.92607135,  0.7152646 , -0.5357565 ,\n",
       "         0.24980713,  0.9459391 ,  0.05063101,  0.14126149,  0.8799345 ,\n",
       "        -0.7283145 ],\n",
       "       [-0.45538002, -0.6366028 ,  0.49387133,  0.67291313, -0.31530312,\n",
       "        -0.5781308 ,  0.64037615,  0.44671962,  0.6169176 , -0.43583414,\n",
       "         0.66903955,  0.8196184 ,  0.27696374,  0.35599178,  0.73411894,\n",
       "        -0.51005393]], dtype=float32)>"
      ]
     },
     "execution_count": 55,
     "metadata": {},
     "output_type": "execute_result"
    }
   ],
   "source": [
    "state[:2]"
   ]
  },
  {
   "cell_type": "code",
   "execution_count": 6,
   "metadata": {},
   "outputs": [
    {
     "data": {
      "text/plain": [
       "<tf.Tensor: shape=(2, 16), dtype=float32, numpy=\n",
       "array([[ 0.52839065, -0.86626714,  0.60178876, -0.07501654,  0.81102765,\n",
       "        -0.55168635,  0.37148014, -0.49405664, -0.87643147, -0.41709647,\n",
       "        -0.52287436,  0.6241939 , -0.90340096, -0.7209769 ,  0.71031255,\n",
       "        -0.6986853 ],\n",
       "       [ 0.372018  , -0.91004   ,  0.68763226, -0.6376716 ,  0.55435956,\n",
       "         0.14166729, -0.50071543, -0.52447593, -0.9242554 , -0.6369396 ,\n",
       "        -0.20806749,  0.6788409 , -0.9055065 ,  0.12999529,  0.64272845,\n",
       "         0.02665365]], dtype=float32)>"
      ]
     },
     "execution_count": 6,
     "metadata": {},
     "output_type": "execute_result"
    }
   ],
   "source": [
    "# the result at t1\n",
    "sequences[:,0,:][:2]"
   ]
  },
  {
   "cell_type": "markdown",
   "metadata": {},
   "source": [
    "### Manual Calculation"
   ]
  },
  {
   "cell_type": "code",
   "execution_count": 8,
   "metadata": {},
   "outputs": [],
   "source": [
    "v = rnn.variables\n",
    "U = v[0].numpy()\n",
    "W = v[1].numpy()\n",
    "V = v[2].numpy()"
   ]
  },
  {
   "cell_type": "markdown",
   "metadata": {},
   "source": [
    "$$S_t = f(UX_t + WS_{t-1}) = UX_t + WS_{t-1}$$"
   ]
  },
  {
   "cell_type": "markdown",
   "metadata": {},
   "source": [
    "f is the activation function (tanh, as metioned above)"
   ]
  },
  {
   "cell_type": "markdown",
   "metadata": {},
   "source": [
    "![](https://ss1.bdstatic.com/70cFuXSh_Q1YnxGkpoWK1HF6hhy/it/u=2927054899,245498266&fm=26&gp=0.jpg)"
   ]
  },
  {
   "cell_type": "markdown",
   "metadata": {},
   "source": [
    "### Core codes of RNN"
   ]
  },
  {
   "cell_type": "code",
   "execution_count": 9,
   "metadata": {},
   "outputs": [
    {
     "data": {
      "text/plain": [
       "(32, 28, 16)"
      ]
     },
     "execution_count": 9,
     "metadata": {},
     "output_type": "execute_result"
    }
   ],
   "source": [
    "result = []\n",
    "for i in range(28):\n",
    "    if i ==0:  # S0 = 0\n",
    "        result.append(tf.nn.tanh(inputs[:,0].dot(U)).numpy())\n",
    "    else:\n",
    "        result.append(tf.nn.tanh(inputs[:,i].dot(U) + result[i-1].dot(W)).numpy())\n",
    "result = np.asarray(result)\n",
    "result = np.transpose(result,axes = [1,0,2])  # transpose the first dimensin and the second one\n",
    "result.shape"
   ]
  },
  {
   "cell_type": "code",
   "execution_count": 10,
   "metadata": {},
   "outputs": [
    {
     "data": {
      "text/plain": [
       "array([[-0.25664946, -0.7416231 , -0.26449808, -0.01215898,  0.66506153,\n",
       "        -0.38297573,  0.70326364,  0.5076195 , -0.30021602,  0.23183618,\n",
       "         0.0272775 ,  0.88940847, -0.95251817, -0.83762103,  0.8778303 ,\n",
       "        -0.06520741],\n",
       "       [-0.27784014, -0.9176324 ,  0.04051448,  0.50965625,  0.60097754,\n",
       "         0.2909992 ,  0.81932956, -0.5233518 , -0.24118832,  0.566046  ,\n",
       "        -0.10446535,  0.877389  ,  0.00388835, -0.25564942,  0.733724  ,\n",
       "        -0.7329151 ]], dtype=float32)"
      ]
     },
     "execution_count": 10,
     "metadata": {},
     "output_type": "execute_result"
    }
   ],
   "source": [
    "result[:,-1][:2]"
   ]
  },
  {
   "cell_type": "code",
   "execution_count": 11,
   "metadata": {},
   "outputs": [
    {
     "data": {
      "text/plain": [
       "<tf.Tensor: shape=(2, 16), dtype=float32, numpy=\n",
       "array([[-0.25664946, -0.7416231 , -0.26449808, -0.01215898,  0.66506153,\n",
       "        -0.38297573,  0.70326364,  0.5076195 , -0.30021602,  0.23183618,\n",
       "         0.0272775 ,  0.88940847, -0.95251817, -0.83762103,  0.8778303 ,\n",
       "        -0.06520741],\n",
       "       [-0.27784014, -0.9176324 ,  0.04051448,  0.50965625,  0.60097754,\n",
       "         0.2909992 ,  0.81932956, -0.5233518 , -0.24118832,  0.566046  ,\n",
       "        -0.10446535,  0.877389  ,  0.00388835, -0.25564942,  0.733724  ,\n",
       "        -0.7329151 ]], dtype=float32)>"
      ]
     },
     "execution_count": 11,
     "metadata": {},
     "output_type": "execute_result"
    }
   ],
   "source": [
    "sequences[:,-1][:2]"
   ]
  }
 ],
 "metadata": {
  "kernelspec": {
   "display_name": "Python 3",
   "language": "python",
   "name": "python3"
  },
  "language_info": {
   "codemirror_mode": {
    "name": "ipython",
    "version": 3
   },
   "file_extension": ".py",
   "mimetype": "text/x-python",
   "name": "python",
   "nbconvert_exporter": "python",
   "pygments_lexer": "ipython3",
   "version": "3.7.8"
  },
  "toc": {
   "base_numbering": 1,
   "nav_menu": {},
   "number_sections": true,
   "sideBar": true,
   "skip_h1_title": false,
   "title_cell": "Table of Contents",
   "title_sidebar": "Contents",
   "toc_cell": false,
   "toc_position": {},
   "toc_section_display": true,
   "toc_window_display": false
  }
 },
 "nbformat": 4,
 "nbformat_minor": 4
}
