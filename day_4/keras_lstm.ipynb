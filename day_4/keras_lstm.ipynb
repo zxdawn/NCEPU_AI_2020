{
 "cells": [
  {
   "cell_type": "code",
   "execution_count": 1,
   "metadata": {},
   "outputs": [],
   "source": [
    "import tensorflow as tf\n",
    "from tensorflow.keras import Model, layers\n",
    "import numpy as np\n",
    "from tensorflow import keras"
   ]
  },
  {
   "cell_type": "markdown",
   "metadata": {},
   "source": [
    "### Hyperparameter"
   ]
  },
  {
   "cell_type": "code",
   "execution_count": 2,
   "metadata": {},
   "outputs": [],
   "source": [
    "num_classes = 10 # total classes (0-9 digits).\n",
    "num_features = 784 # data features (img shape: 28*28).\n",
    "\n",
    "# Training Parameters\n",
    "learning_rate = 0.001\n",
    "training_steps = 1000\n",
    "batch_size = 32\n",
    "display_step = 100  # display every 100 traning\n",
    "\n",
    "# Network Parameters\n",
    "# MNIST image shape is 28*28px, we will then handle 28 sequences of 28 timesteps for every sample.\n",
    "num_input = 28 # number of sequences.\n",
    "timesteps = 28 # time series\n",
    "num_units = 32 # number of neurons for the LSTM layer"
   ]
  },
  {
   "cell_type": "markdown",
   "metadata": {},
   "source": [
    "### Load and process data"
   ]
  },
  {
   "cell_type": "code",
   "execution_count": 3,
   "metadata": {},
   "outputs": [],
   "source": [
    "from tensorflow.keras.datasets import mnist\n",
    "(x_train, y_train), (x_test, y_test) = mnist.load_data()\n",
    "x_train, x_test = np.array(x_train, np.float32), np.array(x_test, np.float32)\n",
    "\n",
    "# Flatten images to 1-D vector of 784 features (28*28).\n",
    "x_train, x_test = x_train.reshape([-1, 28, 28]), x_test.reshape([-1, 28,28])\n",
    "\n",
    "# Normalize images value from [0, 255] to [0, 1]\n",
    "x_train, x_test = x_train / 255., x_test / 255.  # normalization\n",
    "y_train = keras.utils.to_categorical(y_train, num_classes)\n",
    "y_test = keras.utils.to_categorical(y_test, num_classes)"
   ]
  },
  {
   "cell_type": "markdown",
   "metadata": {},
   "source": [
    "### Define LSTM model"
   ]
  },
  {
   "cell_type": "code",
   "execution_count": 4,
   "metadata": {},
   "outputs": [],
   "source": [
    "# Create LSTM Model.\n",
    "class LSTM(Model):\n",
    "    # Set layers.\n",
    "    def __init__(self):\n",
    "        super(LSTM, self).__init__()\n",
    "        # RNN (LSTM) hidden layer.\n",
    "        self.lstm_layer = layers.LSTM(units=num_units)  # 32 neurons\n",
    "        self.out = layers.Dense(num_classes)  # output layer, num_classes = 10\n",
    "\n",
    "    # Set forward pass\n",
    "    def call(self, x, is_training=False): # pass data x: hand_written digits (-1,28,28)\n",
    "        x = self.lstm_layer(x)  # execute LSTM\n",
    "        x = self.out(x)  # output layer\n",
    "        if not is_training:  # in the test period\n",
    "            # tf cross entropy expect logits without softmax, so only\n",
    "            # apply softmax when not training.\n",
    "            x = tf.nn.softmax(x)  # which digit\n",
    "        return x\n",
    "\n",
    "# Build LSTM model.\n",
    "lstm_net = LSTM()"
   ]
  },
  {
   "cell_type": "markdown",
   "metadata": {},
   "source": [
    "### Compile"
   ]
  },
  {
   "cell_type": "code",
   "execution_count": 5,
   "metadata": {},
   "outputs": [],
   "source": [
    "# loss: crossentropy\n",
    "# optimizer: Adam\n",
    "# evaluation: accuracy\n",
    "lstm_net.compile(loss = 'categorical_crossentropy',optimizer=keras.optimizers.Adam(),metrics=['accuracy'])"
   ]
  },
  {
   "cell_type": "markdown",
   "metadata": {},
   "source": [
    "### Training"
   ]
  },
  {
   "cell_type": "code",
   "execution_count": 6,
   "metadata": {
    "scrolled": true
   },
   "outputs": [
    {
     "name": "stdout",
     "output_type": "stream",
     "text": [
      "Train on 60000 samples, validate on 10000 samples\n",
      "Epoch 1/5\n",
      "60000/60000 [==============================] - 9s 151us/sample - loss: 0.9122 - accuracy: 0.7049 - val_loss: 0.3731 - val_accuracy: 0.8894\n",
      "Epoch 2/5\n",
      "60000/60000 [==============================] - 8s 128us/sample - loss: 0.2959 - accuracy: 0.9135 - val_loss: 0.2117 - val_accuracy: 0.9394\n",
      "Epoch 3/5\n",
      "60000/60000 [==============================] - 7s 114us/sample - loss: 0.2044 - accuracy: 0.9413 - val_loss: 0.1749 - val_accuracy: 0.9506\n",
      "Epoch 4/5\n",
      "60000/60000 [==============================] - 6s 102us/sample - loss: 0.1643 - accuracy: 0.9524 - val_loss: 0.1489 - val_accuracy: 0.9564\n",
      "Epoch 5/5\n",
      "60000/60000 [==============================] - 6s 100us/sample - loss: 0.1407 - accuracy: 0.9587 - val_loss: 0.1292 - val_accuracy: 0.9637\n"
     ]
    },
    {
     "data": {
      "text/plain": [
       "<tensorflow.python.keras.callbacks.History at 0x122f64c32c8>"
      ]
     },
     "execution_count": 6,
     "metadata": {},
     "output_type": "execute_result"
    }
   ],
   "source": [
    "lstm_net.fit(x_train,y_train, # 60000 data\n",
    "             batch_size = 128,\n",
    "             epochs=5,\n",
    "             validation_data=(x_test, y_test))"
   ]
  },
  {
   "cell_type": "code",
   "execution_count": 7,
   "metadata": {},
   "outputs": [
    {
     "name": "stdout",
     "output_type": "stream",
     "text": [
      "10000/10000 [==============================] - 1s 93us/sample - loss: 0.1292 - accuracy: 0.9637\n"
     ]
    },
    {
     "data": {
      "text/plain": [
       "[0.12923050963431595, 0.9637]"
      ]
     },
     "execution_count": 7,
     "metadata": {},
     "output_type": "execute_result"
    }
   ],
   "source": [
    "lstm_net.evaluate(x_test,y_test)"
   ]
  },
  {
   "cell_type": "code",
   "execution_count": 8,
   "metadata": {},
   "outputs": [
    {
     "data": {
      "text/plain": [
       "array([7, 2, 1, ..., 4, 5, 6], dtype=int64)"
      ]
     },
     "execution_count": 8,
     "metadata": {},
     "output_type": "execute_result"
    }
   ],
   "source": [
    "lstm_net.predict(x_test).argmax(axis = 1)\n",
    "# argmax: turn probability into kind\n",
    "# sotfmax: turn kind into probability"
   ]
  },
  {
   "cell_type": "code",
   "execution_count": 9,
   "metadata": {},
   "outputs": [],
   "source": [
    "import matplotlib.pyplot as plt"
   ]
  },
  {
   "cell_type": "code",
   "execution_count": 10,
   "metadata": {},
   "outputs": [
    {
     "data": {
      "text/plain": [
       "<matplotlib.image.AxesImage at 0x122e1a6cc48>"
      ]
     },
     "execution_count": 10,
     "metadata": {},
     "output_type": "execute_result"
    },
    {
     "data": {
      "image/png": "[encoded data removed]",
      "text/plain": [
       "<Figure size 432x288 with 1 Axes>"
      ]
     },
     "metadata": {
      "needs_background": "light"
     },
     "output_type": "display_data"
    }
   ],
   "source": [
    "plt.imshow(x_test[0])"
   ]
  }
 ],
 "metadata": {
  "kernelspec": {
   "display_name": "Python 3",
   "language": "python",
   "name": "python3"
  },
  "language_info": {
   "codemirror_mode": {
    "name": "ipython",
    "version": 3
   },
   "file_extension": ".py",
   "mimetype": "text/x-python",
   "name": "python",
   "nbconvert_exporter": "python",
   "pygments_lexer": "ipython3",
   "version": "3.7.4"
  },
  "toc": {
   "base_numbering": 1,
   "nav_menu": {},
   "number_sections": true,
   "sideBar": true,
   "skip_h1_title": false,
   "title_cell": "Table of Contents",
   "title_sidebar": "Contents",
   "toc_cell": false,
   "toc_position": {},
   "toc_section_display": true,
   "toc_window_display": false
  }
 },
 "nbformat": 4,
 "nbformat_minor": 4
}
