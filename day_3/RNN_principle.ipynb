{
 "cells": [
  {
   "cell_type": "markdown",
   "metadata": {},
   "source": [
    "![](https://camo.githubusercontent.com/a90144b7e3d10d3b5a267cb617bb90b938cb048a/687474703a2f2f636f6c61682e6769746875622e696f2f706f7374732f323031352d30382d556e6465727374616e64696e672d4c53544d732f696d672f524e4e2d756e726f6c6c65642e706e67)"
   ]
  },
  {
   "cell_type": "code",
   "execution_count": 1,
   "metadata": {},
   "outputs": [],
   "source": [
    "import numpy as np\n",
    "import tensorflow as tf"
   ]
  },
  {
   "cell_type": "markdown",
   "metadata": {},
   "source": [
    "# Create data"
   ]
  },
  {
   "cell_type": "code",
   "execution_count": 2,
   "metadata": {},
   "outputs": [
    {
     "data": {
      "text/plain": [
       "array([[0.31713715, 0.20192724, 0.8159041 , 0.7029249 , 0.67082775,\n",
       "        0.43381926, 0.8705692 , 0.64164066],\n",
       "       [0.10379954, 0.1370185 , 0.12924233, 0.34998757, 0.3851574 ,\n",
       "        0.26685837, 0.6769861 , 0.61248267],\n",
       "       [0.848515  , 0.31081966, 0.4034953 , 0.01204828, 0.05835278,\n",
       "        0.9526092 , 0.57290155, 0.2955097 ],\n",
       "       [0.2134481 , 0.96354246, 0.9168369 , 0.76444626, 0.74735487,\n",
       "        0.04503078, 0.61188656, 0.49658924],\n",
       "       [0.71584964, 0.60101414, 0.14885324, 0.9837312 , 0.49820834,\n",
       "        0.6698395 , 0.01066337, 0.86677575],\n",
       "       [0.6897451 , 0.588625  , 0.11964798, 0.5227982 , 0.20433423,\n",
       "        0.19458693, 0.5377688 , 0.55841655],\n",
       "       [0.05534471, 0.876114  , 0.9685342 , 0.586914  , 0.7182173 ,\n",
       "        0.43261433, 0.10754749, 0.47802195],\n",
       "       [0.96345806, 0.44641328, 0.07175034, 0.08322372, 0.33695263,\n",
       "        0.6095093 , 0.5873406 , 0.9635302 ],\n",
       "       [0.7041955 , 0.08375544, 0.00109698, 0.34994867, 0.16555607,\n",
       "        0.8740165 , 0.6199682 , 0.08857013],\n",
       "       [0.46924362, 0.47246543, 0.841036  , 0.86625123, 0.97541714,\n",
       "        0.55535424, 0.5712584 , 0.56581706]], dtype=float32)"
      ]
     },
     "execution_count": 2,
     "metadata": {},
     "output_type": "execute_result"
    }
   ],
   "source": [
    "# 32: num of samples\n",
    "# 10: time series  t1, t2, t3, ... t10\n",
    "#     index        0, 1, 2, ... 9\n",
    "# 8  len of data for each time series\n",
    "# 32*10*8: 32 10*8\n",
    "inputs = np.random.random([32, 10, 8]).astype(np.float32)\n",
    "inputs[0]"
   ]
  },
  {
   "cell_type": "markdown",
   "metadata": {},
   "source": [
    "# RNN"
   ]
  },
  {
   "cell_type": "markdown",
   "metadata": {},
   "source": [
    "## Simple RNN"
   ]
  },
  {
   "cell_type": "code",
   "execution_count": 3,
   "metadata": {},
   "outputs": [
    {
     "data": {
      "text/plain": [
       "TensorShape([32, 10, 4])"
      ]
     },
     "metadata": {},
     "output_type": "display_data"
    }
   ],
   "source": [
    "simple_rnn = tf.keras.layers.SimpleRNN(4,  # 4 neurons, output\n",
    "                                       activation='linear', # activation function, linear: not activated\n",
    "                                       return_sequences=True,  # Whether to return the last output\n",
    "                                       return_state=False,  # Whether to return the last state\n",
    "                                       )\n",
    "\n",
    "sequences = simple_rnn(inputs)\n",
    "display(sequences.shape)"
   ]
  },
  {
   "cell_type": "code",
   "execution_count": 4,
   "metadata": {},
   "outputs": [
    {
     "data": {
      "text/plain": [
       "TensorShape([32, 10, 4])"
      ]
     },
     "metadata": {},
     "output_type": "display_data"
    },
    {
     "data": {
      "text/plain": [
       "TensorShape([32, 4])"
      ]
     },
     "metadata": {},
     "output_type": "display_data"
    }
   ],
   "source": [
    "simple_rnn = tf.keras.layers.SimpleRNN(4,\n",
    "                                       activation='linear',\n",
    "                                       return_sequences=True, \n",
    "                                       return_state=True)\n",
    "\n",
    "sequences,state = simple_rnn(inputs)\n",
    "display(sequences.shape,state.shape)"
   ]
  },
  {
   "cell_type": "markdown",
   "metadata": {},
   "source": [
    "## Get the the result of sequences manually"
   ]
  },
  {
   "cell_type": "code",
   "execution_count": 5,
   "metadata": {},
   "outputs": [],
   "source": [
    "v = simple_rnn.variables  # get the coefficiency and weights of the network\n",
    "U = v[0].numpy()\n",
    "W = v[1].numpy()"
   ]
  },
  {
   "cell_type": "code",
   "execution_count": 6,
   "metadata": {},
   "outputs": [
    {
     "data": {
      "text/plain": [
       "3"
      ]
     },
     "execution_count": 6,
     "metadata": {},
     "output_type": "execute_result"
    }
   ],
   "source": [
    "len(v)"
   ]
  },
  {
   "cell_type": "markdown",
   "metadata": {},
   "source": [
    "![](./imgs/rnn.jpg)"
   ]
  },
  {
   "cell_type": "markdown",
   "metadata": {},
   "source": [
    "![](https://pic2.zhimg.com/80/v2-b0175ebd3419f9a11a3d0d8b00e28675_1440w.jpg)"
   ]
  },
  {
   "cell_type": "markdown",
   "metadata": {},
   "source": [
    "### t1"
   ]
  },
  {
   "cell_type": "markdown",
   "metadata": {},
   "source": [
    "$$S_0 = 0$$ \n",
    "\n",
    "$$S_1 = (UX_1 + WS_0)$$\n"
   ]
  },
  {
   "cell_type": "markdown",
   "metadata": {},
   "source": [
    "$$S_1 = UX_1$$"
   ]
  },
  {
   "cell_type": "code",
   "execution_count": 7,
   "metadata": {},
   "outputs": [
    {
     "data": {
      "text/plain": [
       "array([[ 0.58678013,  0.2050451 ,  0.611116  , -0.3618819 ],\n",
       "       [ 0.2089797 ,  0.13343108,  0.239877  , -0.40964082],\n",
       "       [-0.01771723,  0.21386625,  0.13464631, -0.46709284],\n",
       "       [ 0.27668145,  0.32243663,  0.5832139 ,  0.09957372],\n",
       "       [-0.00835785,  0.48222646,  0.37858775, -0.35910916]],\n",
       "      dtype=float32)"
      ]
     },
     "metadata": {},
     "output_type": "display_data"
    },
    {
     "data": {
      "text/plain": [
       "<tf.Tensor: shape=(5, 4), dtype=float32, numpy=\n",
       "array([[ 0.58678013,  0.2050451 ,  0.611116  , -0.36188188],\n",
       "       [ 0.2089797 ,  0.1334311 ,  0.23987705, -0.4096408 ],\n",
       "       [-0.01771723,  0.21386623,  0.13464628, -0.46709287],\n",
       "       [ 0.2766815 ,  0.32243663,  0.5832139 ,  0.09957373],\n",
       "       [-0.00835785,  0.4822264 ,  0.37858775, -0.35910916]],\n",
       "      dtype=float32)>"
      ]
     },
     "metadata": {},
     "output_type": "display_data"
    }
   ],
   "source": [
    "# data at t1\n",
    "s1 = inputs[:,0].dot(U)  # matrix calculation\n",
    "# comparison between our own result with the SimpleRNN\n",
    "display(s1[:5],sequences[:,0][:5])"
   ]
  },
  {
   "cell_type": "markdown",
   "metadata": {},
   "source": [
    "### t2"
   ]
  },
  {
   "cell_type": "markdown",
   "metadata": {},
   "source": [
    "$$S_2 = (UX_2 + WS_1)$$"
   ]
  },
  {
   "cell_type": "code",
   "execution_count": 8,
   "metadata": {},
   "outputs": [
    {
     "data": {
      "text/plain": [
       "array([[ 0.6418965 , -0.4791404 ,  1.270447  , -0.14025417],\n",
       "       [ 0.64874566, -0.08489497,  1.1179565 , -0.4269971 ],\n",
       "       [-0.17199636,  0.11252998,  0.8598141 , -0.34399077],\n",
       "       [-0.18314157, -0.9245611 ,  0.19826928, -0.11176898],\n",
       "       [-0.8306613 , -0.7472998 , -0.37504616,  0.05495438]],\n",
       "      dtype=float32)"
      ]
     },
     "metadata": {},
     "output_type": "display_data"
    },
    {
     "data": {
      "text/plain": [
       "<tf.Tensor: shape=(5, 4), dtype=float32, numpy=\n",
       "array([[ 0.6418964 , -0.4791404 ,  1.270447  , -0.14025417],\n",
       "       [ 0.6487456 , -0.08489498,  1.1179566 , -0.42699713],\n",
       "       [-0.17199636,  0.11253005,  0.8598141 , -0.34399083],\n",
       "       [-0.1831416 , -0.9245611 ,  0.19826928, -0.11176895],\n",
       "       [-0.83066136, -0.7472998 , -0.3750462 ,  0.05495429]],\n",
       "      dtype=float32)>"
      ]
     },
     "metadata": {},
     "output_type": "display_data"
    }
   ],
   "source": [
    "s2 = inputs[:,1].dot(U) + s1.dot(W)\n",
    "display(s2[:5],sequences[:,1][:5])"
   ]
  },
  {
   "cell_type": "markdown",
   "metadata": {},
   "source": [
    "### t3"
   ]
  },
  {
   "cell_type": "markdown",
   "metadata": {},
   "source": [
    "$$S_3 = (UX_3 + WS_2)$$"
   ]
  },
  {
   "cell_type": "code",
   "execution_count": 9,
   "metadata": {},
   "outputs": [
    {
     "data": {
      "text/plain": [
       "array([[-0.5827327 , -0.5967662 ,  1.5250813 , -1.3259531 ],\n",
       "       [ 0.13433695, -0.43378764,  2.0908852 , -0.5245303 ],\n",
       "       [-0.40399122, -0.39693215,  0.8868085 , -0.6811488 ],\n",
       "       [ 0.26840347,  0.47303092,  1.3315388 , -1.4119835 ],\n",
       "       [-0.11473733,  0.6492388 ,  0.05383617, -0.87975276]],\n",
       "      dtype=float32)"
      ]
     },
     "metadata": {},
     "output_type": "display_data"
    },
    {
     "data": {
      "text/plain": [
       "<tf.Tensor: shape=(5, 4), dtype=float32, numpy=\n",
       "array([[-0.5827327 , -0.5967662 ,  1.5250812 , -1.325953  ],\n",
       "       [ 0.13433689, -0.4337877 ,  2.0908854 , -0.52453035],\n",
       "       [-0.40399122, -0.39693218,  0.88680845, -0.6811487 ],\n",
       "       [ 0.26840353,  0.47303092,  1.3315388 , -1.4119835 ],\n",
       "       [-0.11473742,  0.6492389 ,  0.05383614, -0.87975276]],\n",
       "      dtype=float32)>"
      ]
     },
     "metadata": {},
     "output_type": "display_data"
    }
   ],
   "source": [
    "s3 = inputs[:,2].dot(U) + s2.dot(W)\n",
    "display(s3[:5],sequences[:,2][:5])\n"
   ]
  },
  {
   "cell_type": "markdown",
   "metadata": {},
   "source": [
    "$$S_t = f(UX_t + WS_{t-1}) = UX_t + WS_{t-1}$$\n",
    "\n",
    "f: activation function (linear)"
   ]
  },
  {
   "cell_type": "markdown",
   "metadata": {},
   "source": [
    "### Using for loop to calculate S_t"
   ]
  },
  {
   "cell_type": "code",
   "execution_count": 10,
   "metadata": {},
   "outputs": [
    {
     "data": {
      "text/plain": [
       "(10, 32, 4)"
      ]
     },
     "execution_count": 10,
     "metadata": {},
     "output_type": "execute_result"
    }
   ],
   "source": [
    "result = []\n",
    "for i in range(10):\n",
    "    if i == 0:  # t1\n",
    "        result.append(inputs[:,0].dot(U))\n",
    "    else:  # t2, t3 ....\n",
    "        result.append(inputs[:,i].dot(U) + result[i-1].dot(W))\n",
    "\n",
    "result = np.asarray(result)\n",
    "result.shape"
   ]
  },
  {
   "cell_type": "code",
   "execution_count": 11,
   "metadata": {},
   "outputs": [
    {
     "data": {
      "text/plain": [
       "array([[ 0.58678013,  0.2050451 ,  0.611116  , -0.3618819 ],\n",
       "       [ 0.2089797 ,  0.13343108,  0.239877  , -0.40964082],\n",
       "       [-0.01771723,  0.21386625,  0.13464631, -0.46709284],\n",
       "       [ 0.27668145,  0.32243663,  0.5832139 ,  0.09957372],\n",
       "       [-0.00835785,  0.48222646,  0.37858775, -0.35910916]],\n",
       "      dtype=float32)"
      ]
     },
     "metadata": {},
     "output_type": "display_data"
    },
    {
     "data": {
      "text/plain": [
       "<tf.Tensor: shape=(5, 4), dtype=float32, numpy=\n",
       "array([[ 0.58678013,  0.2050451 ,  0.611116  , -0.36188188],\n",
       "       [ 0.2089797 ,  0.1334311 ,  0.23987705, -0.4096408 ],\n",
       "       [-0.01771723,  0.21386623,  0.13464628, -0.46709287],\n",
       "       [ 0.2766815 ,  0.32243663,  0.5832139 ,  0.09957373],\n",
       "       [-0.00835785,  0.4822264 ,  0.37858775, -0.35910916]],\n",
       "      dtype=float32)>"
      ]
     },
     "metadata": {},
     "output_type": "display_data"
    },
    {
     "name": "stdout",
     "output_type": "stream",
     "text": [
      "--------------------------------------------\n"
     ]
    },
    {
     "data": {
      "text/plain": [
       "array([[ 0.6418965 , -0.4791404 ,  1.270447  , -0.14025417],\n",
       "       [ 0.64874566, -0.08489497,  1.1179565 , -0.4269971 ],\n",
       "       [-0.17199636,  0.11252998,  0.8598141 , -0.34399077],\n",
       "       [-0.18314157, -0.9245611 ,  0.19826928, -0.11176898],\n",
       "       [-0.8306613 , -0.7472998 , -0.37504616,  0.05495438]],\n",
       "      dtype=float32)"
      ]
     },
     "metadata": {},
     "output_type": "display_data"
    },
    {
     "data": {
      "text/plain": [
       "<tf.Tensor: shape=(5, 4), dtype=float32, numpy=\n",
       "array([[ 0.6418964 , -0.4791404 ,  1.270447  , -0.14025417],\n",
       "       [ 0.6487456 , -0.08489498,  1.1179566 , -0.42699713],\n",
       "       [-0.17199636,  0.11253005,  0.8598141 , -0.34399083],\n",
       "       [-0.1831416 , -0.9245611 ,  0.19826928, -0.11176895],\n",
       "       [-0.83066136, -0.7472998 , -0.3750462 ,  0.05495429]],\n",
       "      dtype=float32)>"
      ]
     },
     "metadata": {},
     "output_type": "display_data"
    },
    {
     "name": "stdout",
     "output_type": "stream",
     "text": [
      "--------------------------------------------\n"
     ]
    },
    {
     "data": {
      "text/plain": [
       "array([[-0.5827327 , -0.5967662 ,  1.5250813 , -1.3259531 ],\n",
       "       [ 0.13433695, -0.43378764,  2.0908852 , -0.5245303 ],\n",
       "       [-0.40399122, -0.39693215,  0.8868085 , -0.6811488 ],\n",
       "       [ 0.26840347,  0.47303092,  1.3315388 , -1.4119835 ],\n",
       "       [-0.11473733,  0.6492388 ,  0.05383617, -0.87975276]],\n",
       "      dtype=float32)"
      ]
     },
     "metadata": {},
     "output_type": "display_data"
    },
    {
     "data": {
      "text/plain": [
       "<tf.Tensor: shape=(5, 4), dtype=float32, numpy=\n",
       "array([[-0.5827327 , -0.5967662 ,  1.5250812 , -1.325953  ],\n",
       "       [ 0.13433689, -0.4337877 ,  2.0908854 , -0.52453035],\n",
       "       [-0.40399122, -0.39693218,  0.88680845, -0.6811487 ],\n",
       "       [ 0.26840353,  0.47303092,  1.3315388 , -1.4119835 ],\n",
       "       [-0.11473742,  0.6492389 ,  0.05383614, -0.87975276]],\n",
       "      dtype=float32)>"
      ]
     },
     "metadata": {},
     "output_type": "display_data"
    },
    {
     "name": "stdout",
     "output_type": "stream",
     "text": [
      "--------------------------------------------\n"
     ]
    },
    {
     "data": {
      "text/plain": [
       "array([[-1.6028935 , -0.51625335,  1.0312402 , -0.12474587],\n",
       "       [-0.22832984, -1.1726737 ,  2.6769276 , -1.016952  ],\n",
       "       [-1.2800533 , -0.49398422,  1.1756363 , -1.0180671 ],\n",
       "       [-0.9836329 , -1.073063  ,  0.9167466 , -0.04727972],\n",
       "       [-0.744573  , -0.38197806, -0.15116389,  0.8567504 ]],\n",
       "      dtype=float32)"
      ]
     },
     "metadata": {},
     "output_type": "display_data"
    },
    {
     "data": {
      "text/plain": [
       "<tf.Tensor: shape=(5, 4), dtype=float32, numpy=\n",
       "array([[-1.6028932 , -0.51625323,  1.0312402 , -0.12474589],\n",
       "       [-0.22833008, -1.1726738 ,  2.6769276 , -1.016952  ],\n",
       "       [-1.2800533 , -0.4939841 ,  1.1756363 , -1.0180671 ],\n",
       "       [-0.98363286, -1.073063  ,  0.9167467 , -0.04727966],\n",
       "       [-0.744573  , -0.3819781 , -0.15116398,  0.8567505 ]],\n",
       "      dtype=float32)>"
      ]
     },
     "metadata": {},
     "output_type": "display_data"
    },
    {
     "name": "stdout",
     "output_type": "stream",
     "text": [
      "--------------------------------------------\n"
     ]
    },
    {
     "data": {
      "text/plain": [
       "array([[-1.0191517 , -0.9073623 ,  0.4280145 , -1.9720569 ],\n",
       "       [-2.3689342 , -1.0112429 ,  2.052887  , -1.2576209 ],\n",
       "       [-2.0223255 , -0.48324054, -0.03929231, -0.2706079 ],\n",
       "       [-0.32794487, -0.32237035,  1.0483449 , -2.27485   ],\n",
       "       [ 0.81581146,  0.06034344,  0.5193064 , -1.8525715 ]],\n",
       "      dtype=float32)"
      ]
     },
     "metadata": {},
     "output_type": "display_data"
    },
    {
     "data": {
      "text/plain": [
       "<tf.Tensor: shape=(5, 4), dtype=float32, numpy=\n",
       "array([[-1.0191514 , -0.90736234,  0.42801476, -1.9720566 ],\n",
       "       [-2.3689342 , -1.0112429 ,  2.052887  , -1.257621  ],\n",
       "       [-2.0223255 , -0.48324066, -0.0392924 , -0.2706079 ],\n",
       "       [-0.32794487, -0.3223704 ,  1.0483449 , -2.2748504 ],\n",
       "       [ 0.8158115 ,  0.06034347,  0.5193064 , -1.8525716 ]],\n",
       "      dtype=float32)>"
      ]
     },
     "metadata": {},
     "output_type": "display_data"
    },
    {
     "name": "stdout",
     "output_type": "stream",
     "text": [
      "--------------------------------------------\n"
     ]
    },
    {
     "data": {
      "text/plain": [
       "array([[-1.8211803 ,  0.3165874 ,  0.78718597, -0.6240929 ],\n",
       "       [-2.9338276 , -1.1684681 ,  0.48753014, -1.9544518 ],\n",
       "       [-1.2443199 ,  0.2459715 , -0.7096915 , -1.7675707 ],\n",
       "       [-2.062849  , -0.3108096 ,  1.3837214 ,  0.12100226],\n",
       "       [-0.6853948 , -0.0631443 ,  1.4656024 ,  0.8132747 ]],\n",
       "      dtype=float32)"
      ]
     },
     "metadata": {},
     "output_type": "display_data"
    },
    {
     "data": {
      "text/plain": [
       "<tf.Tensor: shape=(5, 4), dtype=float32, numpy=\n",
       "array([[-1.8211801 ,  0.31658727,  0.78718626, -0.62409306],\n",
       "       [-2.9338279 , -1.1684681 ,  0.48753023, -1.9544517 ],\n",
       "       [-1.24432   ,  0.24597165, -0.7096915 , -1.7675707 ],\n",
       "       [-2.0628495 , -0.31080943,  1.3837214 ,  0.12100261],\n",
       "       [-0.68539476, -0.06314425,  1.4656024 ,  0.813275  ]],\n",
       "      dtype=float32)>"
      ]
     },
     "metadata": {},
     "output_type": "display_data"
    },
    {
     "name": "stdout",
     "output_type": "stream",
     "text": [
      "--------------------------------------------\n"
     ]
    },
    {
     "data": {
      "text/plain": [
       "array([[-1.9619986 , -0.9677449 , -1.0260907 , -0.12047057],\n",
       "       [-3.100183  , -0.01658981, -0.52034414, -1.2791057 ],\n",
       "       [-2.3242614 ,  0.59747887, -1.2153834 ,  0.99609977],\n",
       "       [-1.2408555 , -1.4271629 , -0.25088233, -2.0688481 ],\n",
       "       [ 0.47604543, -0.9335735 ,  1.1834122 , -1.9587208 ]],\n",
       "      dtype=float32)"
      ]
     },
     "metadata": {},
     "output_type": "display_data"
    },
    {
     "data": {
      "text/plain": [
       "<tf.Tensor: shape=(5, 4), dtype=float32, numpy=\n",
       "array([[-1.9619987 , -0.96774507, -1.0260903 , -0.12047052],\n",
       "       [-3.1001832 , -0.01658997, -0.5203444 , -1.2791059 ],\n",
       "       [-2.3242614 ,  0.59747875, -1.2153835 ,  0.9960998 ],\n",
       "       [-1.2408555 , -1.4271631 , -0.2508828 , -2.0688486 ],\n",
       "       [ 0.4760458 , -0.9335735 ,  1.1834122 , -1.958721  ]],\n",
       "      dtype=float32)>"
      ]
     },
     "metadata": {},
     "output_type": "display_data"
    },
    {
     "name": "stdout",
     "output_type": "stream",
     "text": [
      "--------------------------------------------\n"
     ]
    },
    {
     "data": {
      "text/plain": [
       "array([[-0.71576464,  0.9556167 , -0.5143362 , -2.3634806 ],\n",
       "       [-2.1972122 ,  0.34596983, -2.0559704 , -0.92345697],\n",
       "       [ 0.16951543,  0.03261948, -2.3923037 , -1.5022457 ],\n",
       "       [-2.0449324 ,  1.0995495 ,  0.55444664, -0.89691484],\n",
       "       [-1.8259445 , -0.12864514,  1.9700509 , -0.34286654]],\n",
       "      dtype=float32)"
      ]
     },
     "metadata": {},
     "output_type": "display_data"
    },
    {
     "data": {
      "text/plain": [
       "<tf.Tensor: shape=(5, 4), dtype=float32, numpy=\n",
       "array([[-0.71576464,  0.9556165 , -0.51433575, -2.3634806 ],\n",
       "       [-2.1972122 ,  0.34597015, -2.0559707 , -0.92345685],\n",
       "       [ 0.16951546,  0.03261966, -2.3923037 , -1.5022457 ],\n",
       "       [-2.0449324 ,  1.0995501 ,  0.55444664, -0.8969146 ],\n",
       "       [-1.8259445 , -0.128645  ,  1.9700513 , -0.3428663 ]],\n",
       "      dtype=float32)>"
      ]
     },
     "metadata": {},
     "output_type": "display_data"
    },
    {
     "name": "stdout",
     "output_type": "stream",
     "text": [
      "--------------------------------------------\n"
     ]
    },
    {
     "data": {
      "text/plain": [
       "array([[-1.5222629 ,  0.11918648, -0.41622502,  0.93594456],\n",
       "       [-1.0512304 ,  1.0260437 , -2.5456486 , -0.17879331],\n",
       "       [ 0.10325649,  2.4591932 , -0.20771116,  1.4375445 ],\n",
       "       [-1.5698465 , -1.0980396 , -0.97607535,  0.2788908 ],\n",
       "       [-1.7677109 , -1.7052399 ,  0.19135825, -2.1074224 ]],\n",
       "      dtype=float32)"
      ]
     },
     "metadata": {},
     "output_type": "display_data"
    },
    {
     "data": {
      "text/plain": [
       "<tf.Tensor: shape=(5, 4), dtype=float32, numpy=\n",
       "array([[-1.5222632 ,  0.11918622, -0.41622463,  0.9359443 ],\n",
       "       [-1.0512302 ,  1.0260437 , -2.545649  , -0.17879313],\n",
       "       [ 0.10325658,  2.4591932 , -0.20771128,  1.4375446 ],\n",
       "       [-1.5698462 , -1.09804   , -0.97607553,  0.27889097],\n",
       "       [-1.7677108 , -1.7052402 ,  0.19135825, -2.1074226 ]],\n",
       "      dtype=float32)>"
      ]
     },
     "metadata": {},
     "output_type": "display_data"
    },
    {
     "name": "stdout",
     "output_type": "stream",
     "text": [
      "--------------------------------------------\n"
     ]
    },
    {
     "data": {
      "text/plain": [
       "array([[ 0.36627555,  0.17020214, -0.8559184 , -1.312624  ],\n",
       "       [ 0.6842533 ,  1.2456517 , -2.402912  ,  0.6792505 ],\n",
       "       [ 1.7896724 , -1.6674048 , -1.3062919 , -0.5032557 ],\n",
       "       [-0.57588834,  1.1377416 , -0.36381972, -2.263235  ],\n",
       "       [-2.9345522 ,  0.7375962 ,  0.15035412, -0.4266607 ]],\n",
       "      dtype=float32)"
      ]
     },
     "metadata": {},
     "output_type": "display_data"
    },
    {
     "data": {
      "text/plain": [
       "<tf.Tensor: shape=(5, 4), dtype=float32, numpy=\n",
       "array([[ 0.3662751 ,  0.17020205, -0.8559182 , -1.3126242 ],\n",
       "       [ 0.6842537 ,  1.2456521 , -2.402912  ,  0.6792505 ],\n",
       "       [ 1.7896724 , -1.6674047 , -1.3062918 , -0.50325567],\n",
       "       [-0.575888  ,  1.137742  , -0.36381942, -2.263235  ],\n",
       "       [-2.9345524 ,  0.7375966 ,  0.1503544 , -0.42666075]],\n",
       "      dtype=float32)>"
      ]
     },
     "metadata": {},
     "output_type": "display_data"
    },
    {
     "name": "stdout",
     "output_type": "stream",
     "text": [
      "--------------------------------------------\n"
     ]
    }
   ],
   "source": [
    "for i in range(10):\n",
    "    display(result[i][:5],sequences[:,i][:5])\n",
    "    print('--------------------------------------------')"
   ]
  }
 ],
 "metadata": {
  "kernelspec": {
   "display_name": "Python 3",
   "language": "python",
   "name": "python3"
  },
  "language_info": {
   "codemirror_mode": {
    "name": "ipython",
    "version": 3
   },
   "file_extension": ".py",
   "mimetype": "text/x-python",
   "name": "python",
   "nbconvert_exporter": "python",
   "pygments_lexer": "ipython3",
   "version": "3.7.8"
  },
  "toc": {
   "base_numbering": 1,
   "nav_menu": {},
   "number_sections": true,
   "sideBar": true,
   "skip_h1_title": false,
   "title_cell": "Table of Contents",
   "title_sidebar": "Contents",
   "toc_cell": false,
   "toc_position": {},
   "toc_section_display": true,
   "toc_window_display": false
  }
 },
 "nbformat": 4,
 "nbformat_minor": 4
}
