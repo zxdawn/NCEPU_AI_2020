{
 "cells": [
  {
   "cell_type": "code",
   "execution_count": 1,
   "metadata": {},
   "outputs": [],
   "source": [
    "import numpy as np\n",
    "from paddle import fluid\n",
    "import matplotlib.pyplot as plt"
   ]
  },
  {
   "cell_type": "markdown",
   "metadata": {},
   "source": [
    "## Create data"
   ]
  },
  {
   "cell_type": "code",
   "execution_count": 2,
   "metadata": {},
   "outputs": [
    {
     "data": {
      "text/plain": [
       "<matplotlib.collections.PathCollection at 0x296c3db7fc8>"
      ]
     },
     "execution_count": 2,
     "metadata": {},
     "output_type": "execute_result"
    },
    {
     "data": {
      "image/png": "[encoded data removed]",
      "text/plain": [
       "<Figure size 432x288 with 1 Axes>"
      ]
     },
     "metadata": {
      "needs_background": "light"
     },
     "output_type": "display_data"
    }
   ],
   "source": [
    "x = np.arange(1,15).reshape(-1, 1)\n",
    "y = x*3 + 5  # linear relationship\n",
    "\n",
    "plt.scatter(x, y, color='r')"
   ]
  },
  {
   "cell_type": "markdown",
   "metadata": {},
   "source": [
    "## Matrix method"
   ]
  },
  {
   "cell_type": "markdown",
   "metadata": {},
   "source": [
    "### Define variables, coefficients and equation"
   ]
  },
  {
   "cell_type": "code",
   "execution_count": 3,
   "metadata": {},
   "outputs": [],
   "source": [
    "data_x = fluid.data(name='x', shape=[1], dtype='float32')\n",
    "data_y = fluid.data(name='y', shape=[1], dtype='float32')\n",
    "\n",
    "k = fluid.layers.create_parameter(shape=[1], dtype='float32', name='k')\n",
    "b = fluid.layers.create_parameter(shape=[1], dtype='float32', name='b')\n",
    "\n",
    "# equation (k*x+b) returns prediction values\n",
    "# y_pred should be close to data_y\n",
    "y_pred = fluid.layers.elementwise_add(fluid.layers.matmul(data_x, k), b)\n",
    "\n",
    "# Least squares method\n",
    "cost = fluid.layers.mean(fluid.layers.square_error_cost(input=y_pred, label=data_y))\n",
    "sgd = fluid.optimizer.SGD(learning_rate=0.01)\n",
    "_ = sgd.minimize(cost)"
   ]
  },
  {
   "cell_type": "markdown",
   "metadata": {},
   "source": [
    "### Define executor"
   ]
  },
  {
   "cell_type": "code",
   "execution_count": 4,
   "metadata": {},
   "outputs": [],
   "source": [
    "cpu = fluid.CPUPlace()\n",
    "exe = fluid.Executor(cpu)\n",
    "\n",
    "# initilize the variables: k and b\n",
    "exe.run(fluid.default_startup_program())\n",
    "main_p = fluid.default_main_program()"
   ]
  },
  {
   "cell_type": "code",
   "execution_count": 5,
   "metadata": {},
   "outputs": [],
   "source": [
    "# For test only\n",
    "test_p = main_p.clone(for_test=True)"
   ]
  },
  {
   "cell_type": "markdown",
   "metadata": {},
   "source": [
    "### Assignment and calculation"
   ]
  },
  {
   "cell_type": "code",
   "execution_count": 6,
   "metadata": {},
   "outputs": [
    {
     "name": "stdout",
     "output_type": "stream",
     "text": [
      "--------0--------cost: 31.8374\n",
      "--------1--------cost: 2.3966\n",
      "--------2--------cost: 2.2072\n",
      "--------3--------cost: 2.0327\n",
      "--------4--------cost: 1.8720\n",
      "--------5--------cost: 1.7240\n",
      "--------6--------cost: 1.5877\n",
      "--------7--------cost: 1.4622\n",
      "--------8--------cost: 1.3466\n",
      "--------9--------cost: 1.2401\n",
      "--------10--------cost: 1.1421\n",
      "--------11--------cost: 1.0518\n",
      "--------12--------cost: 0.9686\n",
      "--------13--------cost: 0.8921\n",
      "--------14--------cost: 0.8215\n",
      "--------15--------cost: 0.7566\n",
      "--------16--------cost: 0.6968\n",
      "--------17--------cost: 0.6417\n",
      "--------18--------cost: 0.5910\n",
      "--------19--------cost: 0.5443\n",
      "--------20--------cost: 0.5012\n",
      "--------21--------cost: 0.4616\n",
      "--------22--------cost: 0.4251\n",
      "--------23--------cost: 0.3915\n",
      "--------24--------cost: 0.3605\n",
      "--------25--------cost: 0.3321\n",
      "--------26--------cost: 0.3058\n",
      "--------27--------cost: 0.2816\n",
      "--------28--------cost: 0.2594\n",
      "--------29--------cost: 0.2389\n",
      "--------30--------cost: 0.2200\n",
      "--------31--------cost: 0.2026\n",
      "--------32--------cost: 0.1866\n",
      "--------33--------cost: 0.1718\n",
      "--------34--------cost: 0.1582\n",
      "--------35--------cost: 0.1457\n",
      "--------36--------cost: 0.1342\n",
      "--------37--------cost: 0.1236\n",
      "--------38--------cost: 0.1138\n",
      "--------39--------cost: 0.1048\n",
      "--------40--------cost: 0.0965\n",
      "--------41--------cost: 0.0889\n",
      "--------42--------cost: 0.0819\n",
      "--------43--------cost: 0.0754\n",
      "--------44--------cost: 0.0694\n",
      "--------45--------cost: 0.0640\n",
      "--------46--------cost: 0.0589\n",
      "--------47--------cost: 0.0542\n",
      "--------48--------cost: 0.0500\n",
      "--------49--------cost: 0.0460\n",
      "--------50--------cost: 0.0424\n",
      "--------51--------cost: 0.0390\n",
      "--------52--------cost: 0.0359\n",
      "--------53--------cost: 0.0331\n",
      "--------54--------cost: 0.0305\n",
      "--------55--------cost: 0.0281\n",
      "--------56--------cost: 0.0258\n",
      "--------57--------cost: 0.0238\n",
      "--------58--------cost: 0.0219\n",
      "--------59--------cost: 0.0202\n",
      "--------60--------cost: 0.0186\n",
      "--------61--------cost: 0.0171\n",
      "--------62--------cost: 0.0158\n",
      "--------63--------cost: 0.0145\n",
      "--------64--------cost: 0.0134\n",
      "--------65--------cost: 0.0123\n",
      "--------66--------cost: 0.0113\n",
      "--------67--------cost: 0.0104\n",
      "--------68--------cost: 0.0096\n",
      "--------69--------cost: 0.0089\n",
      "--------70--------cost: 0.0082\n",
      "--------71--------cost: 0.0075\n",
      "--------72--------cost: 0.0069\n",
      "--------73--------cost: 0.0064\n",
      "--------74--------cost: 0.0059\n",
      "--------75--------cost: 0.0054\n",
      "--------76--------cost: 0.0050\n",
      "--------77--------cost: 0.0046\n",
      "--------78--------cost: 0.0042\n",
      "--------79--------cost: 0.0039\n",
      "--------80--------cost: 0.0036\n",
      "--------81--------cost: 0.0033\n",
      "--------82--------cost: 0.0030\n",
      "--------83--------cost: 0.0028\n",
      "--------84--------cost: 0.0026\n",
      "--------85--------cost: 0.0024\n",
      "--------86--------cost: 0.0022\n",
      "--------87--------cost: 0.0020\n",
      "--------88--------cost: 0.0019\n",
      "--------89--------cost: 0.0017\n",
      "--------90--------cost: 0.0016\n",
      "--------91--------cost: 0.0014\n",
      "--------92--------cost: 0.0013\n",
      "--------93--------cost: 0.0012\n",
      "--------94--------cost: 0.0011\n",
      "--------95--------cost: 0.0010\n",
      "--------96--------cost: 0.0010\n",
      "--------97--------cost: 0.0009\n",
      "--------98--------cost: 0.0008\n",
      "--------99--------cost: 0.0007\n"
     ]
    }
   ],
   "source": [
    "for i in range(100):\n",
    "    cost_ = 0\n",
    "    for j in range(x.shape[0]):\n",
    "        feed_x = x[j].astype(np.float32)\n",
    "        feed_y = y[j].astype(np.float32)\n",
    "        outs = exe.run(program = main_p,\n",
    "                       feed={'x': feed_x,\n",
    "                             'y': feed_y},\n",
    "                       fetch_list=[cost]\n",
    "                       )\n",
    "        cost_ += outs[0][0]/x.shape[0]\n",
    "    print('--------%d--------cost: %0.4f'%(i, cost_))"
   ]
  },
  {
   "cell_type": "code",
   "execution_count": 7,
   "metadata": {},
   "outputs": [
    {
     "data": {
      "text/plain": [
       "(array([3.0042386], dtype=float32), array([4.933001], dtype=float32))"
      ]
     },
     "execution_count": 7,
     "metadata": {},
     "output_type": "execute_result"
    }
   ],
   "source": [
    "k_, b_ = exe.run(program=test_p,\n",
    "                 feed={'x': x[0].astype(np.float32),\n",
    "                       'y': y[0].astype(np.float32)},\n",
    "                 fetch_list=[k, b],\n",
    "                )\n",
    "k_, b_"
   ]
  },
  {
   "cell_type": "markdown",
   "metadata": {},
   "source": [
    "### Prediction"
   ]
  },
  {
   "cell_type": "code",
   "execution_count": 8,
   "metadata": {},
   "outputs": [
    {
     "data": {
      "text/plain": [
       "[array([65.01777], dtype=float32)]"
      ]
     },
     "execution_count": 8,
     "metadata": {},
     "output_type": "execute_result"
    }
   ],
   "source": [
    "# input\n",
    "# exe.run(program=test_p,feed = {'x':np.array([15]).astype(np.float32),'y':y[0].astype(np.float32)},fetch_list=[y_pred])\n",
    "exe.run(program=test_p,\n",
    "        feed={'x': np.array([20]).astype(np.float32),\n",
    "              'y': y[0].astype(np.float32),\n",
    "             },\n",
    "        fetch_list=[y_pred],\n",
    "       )"
   ]
  },
  {
   "cell_type": "markdown",
   "metadata": {},
   "source": [
    "$$f(x) =kx+b$$\n",
    "k = 3, b =5"
   ]
  },
  {
   "cell_type": "markdown",
   "metadata": {},
   "source": [
    "## fc method"
   ]
  },
  {
   "cell_type": "markdown",
   "metadata": {},
   "source": [
    "### Define variables, coefficients and equation"
   ]
  },
  {
   "cell_type": "markdown",
   "metadata": {},
   "source": [
    "**!!! Restart the kernel and run codes below !!!**"
   ]
  },
  {
   "cell_type": "code",
   "execution_count": 1,
   "metadata": {},
   "outputs": [],
   "source": [
    "import numpy as np\n",
    "from paddle import fluid"
   ]
  },
  {
   "cell_type": "code",
   "execution_count": 2,
   "metadata": {},
   "outputs": [],
   "source": [
    "x = np.arange(1,15).reshape(-1, 1)\n",
    "y = x*3 + 5  # linear relationship\n",
    "\n",
    "data_x = fluid.data(name='x', shape=[1,1], dtype='float32')\n",
    "data_y = fluid.data(name='y', shape=[1,1], dtype='float32')\n",
    "\n",
    "# create k and b automatically\n",
    "y_pred = fluid.layers.fc(input=data_x, size=1)\n",
    "\n",
    "# Least squares method\n",
    "cost = fluid.layers.mean(fluid.layers.square_error_cost(input=y_pred, label=data_y))\n",
    "sgd = fluid.optimizer.SGD(learning_rate=0.01)\n",
    "_ = sgd.minimize(cost)"
   ]
  },
  {
   "cell_type": "markdown",
   "metadata": {},
   "source": [
    "### Define executor"
   ]
  },
  {
   "cell_type": "code",
   "execution_count": 3,
   "metadata": {},
   "outputs": [],
   "source": [
    "cpu = fluid.CPUPlace()\n",
    "exe = fluid.Executor(cpu)\n",
    "\n",
    "# initilize the variables: k and b\n",
    "exe.run(fluid.default_startup_program())\n",
    "main_p = fluid.default_main_program()"
   ]
  },
  {
   "cell_type": "code",
   "execution_count": 4,
   "metadata": {},
   "outputs": [],
   "source": [
    "# For test only\n",
    "test_p = main_p.clone(for_test=True)"
   ]
  },
  {
   "cell_type": "markdown",
   "metadata": {},
   "source": [
    "### Assignment and calculation"
   ]
  },
  {
   "cell_type": "code",
   "execution_count": 5,
   "metadata": {},
   "outputs": [
    {
     "name": "stdout",
     "output_type": "stream",
     "text": [
      "--------0--------cost: 62.9600\n",
      "--------1--------cost: 2.0007\n",
      "--------2--------cost: 1.8426\n",
      "--------3--------cost: 1.6969\n",
      "--------4--------cost: 1.5627\n",
      "--------5--------cost: 1.4392\n",
      "--------6--------cost: 1.3254\n",
      "--------7--------cost: 1.2207\n",
      "--------8--------cost: 1.1242\n",
      "--------9--------cost: 1.0353\n",
      "--------10--------cost: 0.9534\n",
      "--------11--------cost: 0.8780\n",
      "--------12--------cost: 0.8086\n",
      "--------13--------cost: 0.7447\n",
      "--------14--------cost: 0.6858\n",
      "--------15--------cost: 0.6316\n",
      "--------16--------cost: 0.5817\n",
      "--------17--------cost: 0.5357\n",
      "--------18--------cost: 0.4933\n",
      "--------19--------cost: 0.4544\n",
      "--------20--------cost: 0.4184\n",
      "--------21--------cost: 0.3854\n",
      "--------22--------cost: 0.3549\n",
      "--------23--------cost: 0.3268\n",
      "--------24--------cost: 0.3010\n",
      "--------25--------cost: 0.2772\n",
      "--------26--------cost: 0.2553\n",
      "--------27--------cost: 0.2351\n",
      "--------28--------cost: 0.2165\n",
      "--------29--------cost: 0.1994\n",
      "--------30--------cost: 0.1836\n",
      "--------31--------cost: 0.1691\n",
      "--------32--------cost: 0.1557\n",
      "--------33--------cost: 0.1434\n",
      "--------34--------cost: 0.1321\n",
      "--------35--------cost: 0.1216\n",
      "--------36--------cost: 0.1120\n",
      "--------37--------cost: 0.1032\n",
      "--------38--------cost: 0.0950\n",
      "--------39--------cost: 0.0875\n",
      "--------40--------cost: 0.0806\n",
      "--------41--------cost: 0.0742\n",
      "--------42--------cost: 0.0684\n",
      "--------43--------cost: 0.0629\n",
      "--------44--------cost: 0.0580\n",
      "--------45--------cost: 0.0534\n",
      "--------46--------cost: 0.0492\n",
      "--------47--------cost: 0.0453\n",
      "--------48--------cost: 0.0417\n",
      "--------49--------cost: 0.0384\n",
      "--------50--------cost: 0.0354\n",
      "--------51--------cost: 0.0326\n",
      "--------52--------cost: 0.0300\n",
      "--------53--------cost: 0.0276\n",
      "--------54--------cost: 0.0254\n",
      "--------55--------cost: 0.0234\n",
      "--------56--------cost: 0.0216\n",
      "--------57--------cost: 0.0199\n",
      "--------58--------cost: 0.0183\n",
      "--------59--------cost: 0.0169\n",
      "--------60--------cost: 0.0155\n",
      "--------61--------cost: 0.0143\n",
      "--------62--------cost: 0.0132\n",
      "--------63--------cost: 0.0121\n",
      "--------64--------cost: 0.0112\n",
      "--------65--------cost: 0.0103\n",
      "--------66--------cost: 0.0095\n",
      "--------67--------cost: 0.0087\n",
      "--------68--------cost: 0.0080\n",
      "--------69--------cost: 0.0074\n",
      "--------70--------cost: 0.0068\n",
      "--------71--------cost: 0.0063\n",
      "--------72--------cost: 0.0058\n",
      "--------73--------cost: 0.0053\n",
      "--------74--------cost: 0.0049\n",
      "--------75--------cost: 0.0045\n",
      "--------76--------cost: 0.0042\n",
      "--------77--------cost: 0.0038\n",
      "--------78--------cost: 0.0035\n",
      "--------79--------cost: 0.0032\n",
      "--------80--------cost: 0.0030\n",
      "--------81--------cost: 0.0028\n",
      "--------82--------cost: 0.0025\n",
      "--------83--------cost: 0.0023\n",
      "--------84--------cost: 0.0022\n",
      "--------85--------cost: 0.0020\n",
      "--------86--------cost: 0.0018\n",
      "--------87--------cost: 0.0017\n",
      "--------88--------cost: 0.0015\n",
      "--------89--------cost: 0.0014\n",
      "--------90--------cost: 0.0013\n",
      "--------91--------cost: 0.0012\n",
      "--------92--------cost: 0.0011\n",
      "--------93--------cost: 0.0010\n",
      "--------94--------cost: 0.0009\n",
      "--------95--------cost: 0.0009\n",
      "--------96--------cost: 0.0008\n",
      "--------97--------cost: 0.0007\n",
      "--------98--------cost: 0.0007\n",
      "--------99--------cost: 0.0006\n"
     ]
    }
   ],
   "source": [
    "for i in range(100):\n",
    "    cost_ = 0\n",
    "    for j in range(x.shape[0]):\n",
    "        feed_x = x[j].astype(np.float32).reshape(1,1)\n",
    "        feed_y = y[j].astype(np.float32).reshape(1,1)\n",
    "        outs = exe.run(program = main_p,\n",
    "                       feed={'x': feed_x,\n",
    "                             'y': feed_y},\n",
    "                       fetch_list=[cost]\n",
    "                       )\n",
    "        cost_ += outs[0][0]/x.shape[0]\n",
    "    print('--------%d--------cost: %0.4f'%(i, cost_))"
   ]
  },
  {
   "cell_type": "markdown",
   "metadata": {},
   "source": [
    "### Prediction"
   ]
  },
  {
   "cell_type": "code",
   "execution_count": 6,
   "metadata": {},
   "outputs": [
    {
     "data": {
      "text/plain": [
       "[array([[65.01606]], dtype=float32)]"
      ]
     },
     "execution_count": 6,
     "metadata": {},
     "output_type": "execute_result"
    }
   ],
   "source": [
    "# input\n",
    "exe.run(program=test_p,\n",
    "        feed={'x': np.array([[20]]).astype(np.float32),\n",
    "              'y': y[0].astype(np.float32).reshape(1,1),\n",
    "             },\n",
    "        fetch_list=[y_pred],\n",
    "       )"
   ]
  }
 ],
 "metadata": {
  "kernelspec": {
   "display_name": "Python 3",
   "language": "python",
   "name": "python3"
  },
  "language_info": {
   "codemirror_mode": {
    "name": "ipython",
    "version": 3
   },
   "file_extension": ".py",
   "mimetype": "text/x-python",
   "name": "python",
   "nbconvert_exporter": "python",
   "pygments_lexer": "ipython3",
   "version": "3.7.4"
  }
 },
 "nbformat": 4,
 "nbformat_minor": 4
}
