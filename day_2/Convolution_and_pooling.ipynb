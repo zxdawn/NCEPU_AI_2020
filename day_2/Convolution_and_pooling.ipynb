{
 "cells": [
  {
   "cell_type": "markdown",
   "metadata": {},
   "source": [
    "## Convolution"
   ]
  },
  {
   "cell_type": "code",
   "execution_count": 1,
   "metadata": {},
   "outputs": [],
   "source": [
    "import numpy as np\n",
    "import paddle.fluid as fluid\n",
    "from paddle.fluid.initializer import NumpyArrayInitializer"
   ]
  },
  {
   "cell_type": "code",
   "execution_count": 2,
   "metadata": {},
   "outputs": [
    {
     "data": {
      "text/plain": [
       "(-1, 3, 32, 48)"
      ]
     },
     "execution_count": 2,
     "metadata": {},
     "output_type": "execute_result"
    }
   ],
   "source": [
    "# create data\n",
    "data = fluid.layers.data(name='test_data',\n",
    "                        shape=[1, 32, 48],  # 32: height, 48: width, 1: channel num\n",
    "                        dtype='float32')\n",
    "\n",
    "# image has 3 channels and each channel is 2d array\n",
    "res = fluid.layers.conv2d(input=data,\n",
    "                          num_filters=3,  # num of kernel\n",
    "                          filter_size=3,  # size of kernel\n",
    "                          padding=1,  # whether fill\n",
    "                          )\n",
    "\n",
    "res.shape  # [batch_size, num_kernel, shape_0, shape_1]"
   ]
  },
  {
   "cell_type": "markdown",
   "metadata": {},
   "source": [
    "## Practice"
   ]
  },
  {
   "cell_type": "markdown",
   "metadata": {},
   "source": [
    "![](https://timgsa.baidu.com/timg?image&quality=80&size=b9999_10000&sec=1597746873052&di=f56b4123ae5ee3e466a91cc7c3ae9483&imgtype=0&src=http%3A%2F%2F201905.oss-cn-hangzhou.aliyuncs.com%2Fcs%2F5606289-20b1a8f91855dc97a6e3b08dc87bb748.png)"
   ]
  },
  {
   "cell_type": "code",
   "execution_count": 1,
   "metadata": {},
   "outputs": [
    {
     "data": {
      "text/plain": [
       "[array([[[[-5.,  0.,  1.],\n",
       "          [-1., -2., -5.],\n",
       "          [ 8., -1.,  3.]]]], dtype=float32)]"
      ]
     },
     "execution_count": 1,
     "metadata": {},
     "output_type": "execute_result"
    }
   ],
   "source": [
    "# restart and run this cell again\n",
    "\n",
    "import numpy as np\n",
    "import paddle.fluid as fluid\n",
    "from paddle.fluid.initializer import NumpyArrayInitializer\n",
    "\n",
    "# define data and convolution kernel\n",
    "data = fluid.layers.data(name='data',\n",
    "                        shape=[1, 5, 5],\n",
    "                        dtype='float32')\n",
    "\n",
    "kernel = np.array([-1, 0, 1]*3).astype('float32').reshape(1,1,3,3)\n",
    "\n",
    "# define program\n",
    "param_attr = fluid.ParamAttr(initializer=NumpyArrayInitializer(value=kernel))\n",
    "\n",
    "res = fluid.layers.conv2d(input=data,\n",
    "                          num_filters=1,\n",
    "                          filter_size=3,\n",
    "                          param_attr=param_attr,  # specify the kernel\n",
    "                          padding=0\n",
    "                          )\n",
    "\n",
    "# define executor\n",
    "place = fluid.CPUPlace()\n",
    "exe = fluid.Executor(place)\n",
    "exe.run(fluid.default_startup_program())\n",
    "\n",
    "# assign\n",
    "x = np.array([[2,1,0,2,3],\n",
    "              [9,5,4,2,0],\n",
    "              [2,3,4,5,6],\n",
    "              [1,2,3,1,0],\n",
    "              [0,4,4,2,8]]\n",
    "             ).astype('float32').reshape(1,1,5,5)\n",
    "\n",
    "output = exe.run(feed={'data': x}, fetch_list=[res])\n",
    "output"
   ]
  },
  {
   "cell_type": "markdown",
   "metadata": {},
   "source": [
    "![](https://timgsa.baidu.com/timg?image&quality=80&size=b9999_10000&sec=1597748019915&di=9c024403a5d91ad2f82b347ddc3c3a72&imgtype=0&src=http%3A%2F%2Fdtimage.oss-cn-shanghai.aliyuncs.com%2F2016%2F1125%2F250323575bo8.gif)"
   ]
  },
  {
   "cell_type": "markdown",
   "metadata": {},
   "source": [
    "## Pooling"
   ]
  },
  {
   "cell_type": "markdown",
   "metadata": {},
   "source": [
    "Pick the key feature (largest value)"
   ]
  },
  {
   "cell_type": "markdown",
   "metadata": {},
   "source": [
    "![](https://timgsa.baidu.com/timg?image&quality=80&size=b9999_10000&sec=1597748141073&di=789efba04060210294e02ea8dd5d4c2d&imgtype=0&src=http%3A%2F%2F5b0988e595225.cdn.sohucs.com%2Fimages%2F20171023%2F050b316c3aea478e8d3c0fae2d5f4bb6.jpeg)"
   ]
  },
  {
   "cell_type": "code",
   "execution_count": 2,
   "metadata": {},
   "outputs": [
    {
     "data": {
      "text/plain": [
       "(-1, 1, 16, 16)"
      ]
     },
     "execution_count": 2,
     "metadata": {},
     "output_type": "execute_result"
    }
   ],
   "source": [
    "# define data\n",
    "data = fluid.layers.data(name='pool_data',\n",
    "                         shape=[1, 32, 32],\n",
    "                         dtype='float32')\n",
    "\n",
    "# pooling\n",
    "pool_res = fluid.layers.pool2d(input=data,\n",
    "                               pool_size=2,\n",
    "                               pool_stride=2,  # the step of scan\n",
    "                               pool_padding=0,\n",
    "                               )\n",
    "\n",
    "pool_res.shape"
   ]
  }
 ],
 "metadata": {
  "kernelspec": {
   "display_name": "Python 3",
   "language": "python",
   "name": "python3"
  },
  "language_info": {
   "codemirror_mode": {
    "name": "ipython",
    "version": 3
   },
   "file_extension": ".py",
   "mimetype": "text/x-python",
   "name": "python",
   "nbconvert_exporter": "python",
   "pygments_lexer": "ipython3",
   "version": "3.7.4"
  }
 },
 "nbformat": 4,
 "nbformat_minor": 4
}
