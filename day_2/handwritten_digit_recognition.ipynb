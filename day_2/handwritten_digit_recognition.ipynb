{
 "cells": [
  {
   "cell_type": "code",
   "execution_count": 1,
   "metadata": {},
   "outputs": [],
   "source": [
    "import os\n",
    "import time\n",
    "import numpy\n",
    "import paddle\n",
    "from PIL import Image\n",
    "import paddle.fluid as fluid\n",
    "import matplotlib.pyplot as plt"
   ]
  },
  {
   "cell_type": "markdown",
   "metadata": {},
   "source": [
    "## Network models"
   ]
  },
  {
   "cell_type": "markdown",
   "metadata": {},
   "source": [
    "### fc-sotfmax model"
   ]
  },
  {
   "cell_type": "code",
   "execution_count": 2,
   "metadata": {},
   "outputs": [],
   "source": [
    "def softmax_regression():\n",
    "    \"\"\"\n",
    "    softmax classifier：\n",
    "        a fully connected layer with the softmax activation function\n",
    "    Return:\n",
    "        predicted image\n",
    "    \"\"\"\n",
    "    # the size of MNIST handwritten images: 28*28*1 (1 channel)\n",
    "    # None is equal to -1 representing the unknown size\n",
    "    #     which will be changed based on the input data\n",
    "    img = fluid.data(name='img', shape=[None, 1, 28, 28], dtype='float32')\n",
    "\n",
    "    # Activation function: relu, sigmoid and tanh\n",
    "    # Note: softmax isn't an activation function\n",
    "    predict = fluid.layers.fc(input=img, size=10, act='softmax') # total 10 digits: 0-9\n",
    "    return predict"
   ]
  },
  {
   "cell_type": "markdown",
   "metadata": {},
   "source": [
    "### Multilayer Perceptron (MLP)"
   ]
  },
  {
   "cell_type": "code",
   "execution_count": 3,
   "metadata": {},
   "outputs": [],
   "source": [
    "def multilayer_perceptron():\n",
    "    \"\"\"\n",
    "    The Multilayer Perceptron which contains two hidden layers (fully connected layer)\n",
    "    \n",
    "    The first two hidden layers use ReLU while the output layer uses Softmax\n",
    "\n",
    "    Return:\n",
    "        predicted image\n",
    "    \"\"\"\n",
    "    # input image\n",
    "    img = fluid.data(name='img', shape=[None, 1, 28, 28], dtype='float32')\n",
    "\n",
    "    # the first fulled connected layer\n",
    "    hidden = fluid.layers.fc(input=img, size=200, act='relu') # 200 Neurons = 200 equations\n",
    "\n",
    "    # the second fulled connected layer\n",
    "    hidden = fluid.layers.fc(input=hidden, size=200, act='relu')\n",
    "\n",
    "    # output layer using softmax as the activation function\n",
    "    prediction = fluid.layers.fc(input=hidden, size=10, act='softmax')\n",
    "    return prediction"
   ]
  },
  {
   "cell_type": "markdown",
   "metadata": {},
   "source": [
    "## Train program"
   ]
  },
  {
   "cell_type": "code",
   "execution_count": 4,
   "metadata": {},
   "outputs": [],
   "source": [
    "def train_program():\n",
    "    \"\"\"\n",
    "    Return:\n",
    "        predict -- the result of classification\n",
    "        avg_cost -- mean loss\n",
    "        acc -- the accuracy of classification\n",
    "\n",
    "    \"\"\"\n",
    "    # label: the actual label of input image\n",
    "    label = fluid.data(name='label', shape=[None, 1], dtype='int64')\n",
    "\n",
    "    # prediction\n",
    "    predict = softmax_regression()\n",
    "#     predict = multilayer_perceptron()\n",
    "\n",
    "    # use Cross Entropy to calculate the loss function between \"predict\" and \"label\"\n",
    "    cost = fluid.layers.cross_entropy(input=predict, label=label)\n",
    "    # mean loss\n",
    "    avg_cost = fluid.layers.mean(cost)\n",
    "    # the accuracy of classification\n",
    "    acc = fluid.layers.accuracy(input=predict, label=label)\n",
    "    return predict, [avg_cost, acc]"
   ]
  },
  {
   "cell_type": "markdown",
   "metadata": {},
   "source": [
    "## Optimizer"
   ]
  },
  {
   "cell_type": "code",
   "execution_count": 5,
   "metadata": {},
   "outputs": [],
   "source": [
    "def optimizer_program():\n",
    "    # Stochastic gradient descent (SGD), Adam is better than the basic SGD\n",
    "    return fluid.optimizer.Adam(learning_rate=0.001)"
   ]
  },
  {
   "cell_type": "markdown",
   "metadata": {},
   "source": [
    "## Feeders"
   ]
  },
  {
   "cell_type": "code",
   "execution_count": 7,
   "metadata": {},
   "outputs": [],
   "source": [
    "# each batch has 64 samples\n",
    "BATCH_SIZE = 64\n",
    "\n",
    "# Read 500 data from the Training sets every time\n",
    "#     and pass them to batched reader which yields 64 data every time\n",
    "train_reader = fluid.io.batch(paddle.reader.shuffle(paddle.dataset.mnist.train(), buf_size=500),\n",
    "                              batch_size=BATCH_SIZE)  # return 64 data\n",
    "\n",
    "# Read 64 data from the Test sets\n",
    "test_reader = fluid.io.batch(paddle.dataset.mnist.test(), batch_size=BATCH_SIZE)"
   ]
  },
  {
   "cell_type": "markdown",
   "metadata": {},
   "source": [
    "## Visialization"
   ]
  },
  {
   "cell_type": "code",
   "execution_count": 8,
   "metadata": {},
   "outputs": [],
   "source": [
    "from paddle.utils.plot import Ploter\n",
    "\n",
    "train_prompt = \"Train cost\"\n",
    "test_prompt = \"Test cost\"\n",
    "cost_ploter = Ploter(train_prompt, test_prompt)\n",
    "\n",
    "# Plot the traning process\n",
    "def event_handler_plot(ploter_title, step, cost):\n",
    "    cost_ploter.append(ploter_title, step, cost)\n",
    "    cost_ploter.plot()"
   ]
  },
  {
   "cell_type": "markdown",
   "metadata": {},
   "source": [
    "## Network structure"
   ]
  },
  {
   "cell_type": "code",
   "execution_count": 9,
   "metadata": {},
   "outputs": [],
   "source": [
    "# CPU\n",
    "use_cuda = False\n",
    "place = fluid.CUDAPlace(0) if use_cuda else fluid.CPUPlace()\n",
    "\n",
    "# get the prediction and loss\n",
    "prediction, [avg_loss, acc] = train_program()\n",
    "\n",
    "# input image: \"img\"\n",
    "# label layer: \"label\" (the label of img)\n",
    "feeder = fluid.DataFeeder(feed_list=['img', 'label'], place=place)\n",
    "\n",
    "# choose the Adam optimizer\n",
    "optimizer = optimizer_program()\n",
    "_ = optimizer.minimize(avg_loss)"
   ]
  },
  {
   "cell_type": "markdown",
   "metadata": {},
   "source": [
    "## Training paras"
   ]
  },
  {
   "cell_type": "code",
   "execution_count": 12,
   "metadata": {},
   "outputs": [],
   "source": [
    "PASS_NUM = 5  # 5 rounds\n",
    "epochs = list(range(PASS_NUM))\n",
    "\n",
    "# save paras to save_dirname\n",
    "save_dirname = \"recognize_digits.inference.model\""
   ]
  },
  {
   "cell_type": "markdown",
   "metadata": {},
   "source": [
    "## Loss and Accuracy"
   ]
  },
  {
   "cell_type": "code",
   "execution_count": 14,
   "metadata": {},
   "outputs": [],
   "source": [
    "def train_test(test_program, train_test_feed, train_test_reader):\n",
    "    # save accuracy to acc_set\n",
    "    acc_set = []\n",
    "    # save mean loss to avg_loss_set\n",
    "    avg_loss_set = []\n",
    "    # pass data in test_reader to the traning network\n",
    "    for test_data in train_test_reader():\n",
    "        acc_np, avg_loss_np = exe.run(program=test_program,\n",
    "                                      feed=train_test_feed.feed(test_data),  # paddle api instead of dict\n",
    "                                      fetch_list=[acc, avg_loss]\n",
    "                                      )\n",
    "        acc_set.append(float(acc_np))\n",
    "        avg_loss_set.append(float(avg_loss_np))\n",
    "    # get the accuracy and loss of test sets\n",
    "    acc_val_mean = numpy.array(acc_set).mean()\n",
    "    avg_loss_val_mean = numpy.array(avg_loss_set).mean()\n",
    "\n",
    "    return avg_loss_val_mean, acc_val_mean"
   ]
  },
  {
   "cell_type": "markdown",
   "metadata": {},
   "source": [
    "## Executor"
   ]
  },
  {
   "cell_type": "code",
   "execution_count": 15,
   "metadata": {},
   "outputs": [
    {
     "data": {
      "text/plain": [
       "[]"
      ]
     },
     "execution_count": 15,
     "metadata": {},
     "output_type": "execute_result"
    }
   ],
   "source": [
    "exe = fluid.Executor(place)\n",
    "exe.run(fluid.default_startup_program())"
   ]
  },
  {
   "cell_type": "code",
   "execution_count": 16,
   "metadata": {},
   "outputs": [],
   "source": [
    "main_program = fluid.default_main_program()\n",
    "test_program = fluid.default_main_program().clone(for_test=True)"
   ]
  },
  {
   "cell_type": "markdown",
   "metadata": {},
   "source": [
    "## Trianing"
   ]
  },
  {
   "cell_type": "code",
   "execution_count": 17,
   "metadata": {},
   "outputs": [
    {
     "data": {
      "image/png": "[encoded data removed]",
      "text/plain": [
       "<Figure size 432x288 with 1 Axes>"
      ]
     },
     "metadata": {},
     "output_type": "display_data"
    },
    {
     "name": "stdout",
     "output_type": "stream",
     "text": [
      "Best pass is 2, testing Avgcost is 0.32976411996041516\n",
      "The classification accuracy is 90.10%\n"
     ]
    },
    {
     "data": {
      "text/plain": [
       "<Figure size 432x288 with 0 Axes>"
      ]
     },
     "metadata": {},
     "output_type": "display_data"
    }
   ],
   "source": [
    "lists = []\n",
    "step = 0\n",
    "for epoch_id in epochs:\n",
    "    for step_id, data in enumerate(train_reader()):\n",
    "        metrics = exe.run(main_program,\n",
    "                          feed=feeder.feed(data),\n",
    "                          fetch_list=[avg_loss, acc])\n",
    "        if step % 100 == 0:  # print the log every 100 time\n",
    "            print(\"Pass %d, Batch %d, Cost %f\" % (step, epoch_id, metrics[0]))\n",
    "            event_handler_plot(train_prompt, step, metrics[0])\n",
    "            \n",
    "        step += 1\n",
    "\n",
    "    # test every epoch\n",
    "    avg_loss_val, acc_val = train_test(test_program=test_program,\n",
    "                                       train_test_reader=test_reader,\n",
    "                                       train_test_feed=feeder)\n",
    "\n",
    "    print(\"Test with Epoch %d, avg_cost: %s, acc: %s\" %(epoch_id, avg_loss_val, acc_val))\n",
    "    event_handler_plot(test_prompt, step, metrics[0])\n",
    "\n",
    "    lists.append((epoch_id, avg_loss_val, acc_val))\n",
    "\n",
    "    # save the model for prediction\n",
    "    if save_dirname is not None:\n",
    "        fluid.io.save_inference_model(save_dirname,\n",
    "                                      [\"img\"], [prediction], exe,\n",
    "                                      model_filename=None,\n",
    "                                      params_filename=None)\n",
    "\n",
    "# choose the best one\n",
    "best = sorted(lists, key=lambda list: float(list[1]))[0]\n",
    "print('Best pass is %s, testing Avgcost is %s' % (best[0], best[1]))\n",
    "print('The classification accuracy is %.2f%%' % (float(best[2]) * 100))"
   ]
  },
  {
   "cell_type": "markdown",
   "metadata": {},
   "source": [
    "## Application"
   ]
  },
  {
   "cell_type": "code",
   "execution_count": 18,
   "metadata": {},
   "outputs": [],
   "source": [
    "def load_image(file):\n",
    "    im = Image.open(file).convert('L')\n",
    "    im = im.resize((28, 28), Image.ANTIALIAS)\n",
    "    # convert image into array\n",
    "    im = numpy.array(im).reshape(1, 1, 28, 28).astype(numpy.float32)\n",
    "    # normalization\n",
    "    im = im/255 * -2 + 1\n",
    "\n",
    "    return im\n",
    "\n",
    "tensor_img = load_image('./imgs/9_1.bmp')"
   ]
  },
  {
   "cell_type": "code",
   "execution_count": 19,
   "metadata": {},
   "outputs": [
    {
     "name": "stdout",
     "output_type": "stream",
     "text": [
      "Inference result is: 9\n"
     ]
    },
    {
     "data": {
      "image/png": "[encoded data removed]",
      "text/plain": [
       "<Figure size 432x288 with 1 Axes>"
      ]
     },
     "metadata": {
      "needs_background": "light"
     },
     "output_type": "display_data"
    }
   ],
   "source": [
    "inference_scope = fluid.core.Scope()\n",
    "\n",
    "with fluid.scope_guard(inference_scope):\n",
    "    # use fluid.io.load_inference_model to get the inference program desc\n",
    "    # feed_target_names: specify the variable names passed into the network\n",
    "    # fetch_targets: specify the variable names fetched from the network\n",
    "    [inference_program, feed_target_names, fetch_targets] = fluid.io.load_inference_model(save_dirname, exe, None, None)\n",
    "\n",
    "    # construct the feed into dict: {feed_target_name: feed_target_data}\n",
    "    # results will contain a list corresponding to the fetch_targets\n",
    "    results = exe.run(inference_program,\n",
    "                            feed={feed_target_names[0]: tensor_img},\n",
    "                            fetch_list=fetch_targets)\n",
    "    lab = numpy.argsort(results)\n",
    "\n",
    "    # print the prediction\n",
    "    img=Image.open('./imgs/9_1.bmp')\n",
    "    plt.imshow(img)\n",
    "    print(\"Inference result is: %d\" % lab[0][0][-1])"
   ]
  }
 ],
 "metadata": {
  "kernelspec": {
   "display_name": "Python 3",
   "language": "python",
   "name": "python3"
  },
  "language_info": {
   "codemirror_mode": {
    "name": "ipython",
    "version": 3
   },
   "file_extension": ".py",
   "mimetype": "text/x-python",
   "name": "python",
   "nbconvert_exporter": "python",
   "pygments_lexer": "ipython3",
   "version": "3.7.4"
  }
 },
 "nbformat": 4,
 "nbformat_minor": 4
}
