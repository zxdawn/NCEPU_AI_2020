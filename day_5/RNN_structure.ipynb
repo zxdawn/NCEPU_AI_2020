{
 "cells": [
  {
   "cell_type": "markdown",
   "metadata": {},
   "source": [
    "![](https://pic2.zhimg.com/80/v2-b0175ebd3419f9a11a3d0d8b00e28675_1440w.jpg)"
   ]
  },
  {
   "cell_type": "markdown",
   "metadata": {},
   "source": [
    "Natural Language Processing usually uses LSTM and GRU.\n",
    "\n",
    "LSTM and GRU are improved based on the RNN.\n",
    "\n",
    "U, W and V are shared through the whole process\n",
    "- U is related to $x_{t-1}$\n",
    "- W is related to $s_{t-1}$\n",
    "- How about V?"
   ]
  },
  {
   "cell_type": "code",
   "execution_count": 1,
   "metadata": {},
   "outputs": [],
   "source": [
    "import numpy as np\n",
    "from tensorflow import keras"
   ]
  },
  {
   "cell_type": "code",
   "execution_count": 2,
   "metadata": {},
   "outputs": [
    {
     "data": {
      "text/plain": [
       "(16, 32, 28)"
      ]
     },
     "execution_count": 2,
     "metadata": {},
     "output_type": "execute_result"
    }
   ],
   "source": [
    "# 16 samples, 32 time series, each time series has 28 characteristics\n",
    "inputs = np.random.randn(16,32,28).astype(np.float32)\n",
    "inputs.shape"
   ]
  },
  {
   "cell_type": "code",
   "execution_count": 3,
   "metadata": {},
   "outputs": [],
   "source": [
    "model = keras.Sequential()\n",
    "\n",
    "# the first RNN\n",
    "model.add(keras.layers.SimpleRNN(64,\n",
    "                                 return_sequences = True, # whether adding another RNN\n",
    "                                 return_state = False,\n",
    "                                 activation = 'linear')) # SimpleRNN has one iintercept: b1\n",
    " \n",
    "# the second RNN\n",
    "# model.add(keras.layers.SimpleRNN(128))\n",
    "\n",
    "# V is the paras in Dense\n",
    "model.add(keras.layers.Dense(2)) # Dense has one intercept: b2"
   ]
  },
  {
   "cell_type": "code",
   "execution_count": 4,
   "metadata": {},
   "outputs": [
    {
     "data": {
      "text/plain": [
       "TensorShape([16, 32, 2])"
      ]
     },
     "execution_count": 4,
     "metadata": {},
     "output_type": "execute_result"
    }
   ],
   "source": [
    "out = model(inputs)\n",
    "out.shape\n",
    "# 16: samples, 2: probability"
   ]
  },
  {
   "cell_type": "code",
   "execution_count": 5,
   "metadata": {},
   "outputs": [
    {
     "data": {
      "text/plain": [
       "array([[[  0.26192415,  -0.06166075],\n",
       "        [ -2.3828194 ,   0.58029526],\n",
       "        [  3.9920027 ,   0.61705804],\n",
       "        ...,\n",
       "        [ -2.166027  ,   2.0818596 ],\n",
       "        [ -2.4550283 ,   8.124401  ],\n",
       "        [-17.985926  ,   0.7521892 ]],\n",
       "\n",
       "       [[ -0.04286465,   0.1337983 ],\n",
       "        [ -0.4933125 ,   1.2668729 ],\n",
       "        [ -0.24178153,   0.18593736],\n",
       "        ...,\n",
       "        [ -8.786729  ,  -3.5929904 ],\n",
       "        [  7.6140804 ,   8.789068  ],\n",
       "        [  4.155034  ,  -2.7936597 ]],\n",
       "\n",
       "       [[  0.36555687,  -0.48133707],\n",
       "        [  0.661725  ,  -1.440023  ],\n",
       "        [  0.34263408,   0.22247672],\n",
       "        ...,\n",
       "        [  4.8951707 ,   3.2433033 ],\n",
       "        [ -1.0145526 ,   2.2592432 ],\n",
       "        [ 19.576881  ,  -1.2679727 ]],\n",
       "\n",
       "       ...,\n",
       "\n",
       "       [[  0.8057046 ,  -1.3026489 ],\n",
       "        [  2.1861756 ,  -1.9934711 ],\n",
       "        [ -3.3431735 ,  -1.5255702 ],\n",
       "        ...,\n",
       "        [ 11.158299  ,   4.75774   ],\n",
       "        [  5.721303  ,   4.5129924 ],\n",
       "        [  6.760111  ,  -5.5375805 ]],\n",
       "\n",
       "       [[ -0.18144584,  -0.4511519 ],\n",
       "        [ -0.03182036,   2.0370283 ],\n",
       "        [  1.8175726 ,  -1.4751807 ],\n",
       "        ...,\n",
       "        [ -1.6713386 ,   0.537477  ],\n",
       "        [  3.7812912 ,  -4.8066845 ],\n",
       "        [ -2.9169083 ,   1.6022457 ]],\n",
       "\n",
       "       [[  0.20764548,   0.35921454],\n",
       "        [  4.181587  ,  -0.36565062],\n",
       "        [  1.644141  ,   0.07234591],\n",
       "        ...,\n",
       "        [ -2.8287082 ,  -0.57159996],\n",
       "        [  2.8951173 ,  -2.148077  ],\n",
       "        [ -3.7288966 ,  -1.2840165 ]]], dtype=float32)"
      ]
     },
     "execution_count": 5,
     "metadata": {},
     "output_type": "execute_result"
    }
   ],
   "source": [
    "out.numpy()"
   ]
  },
  {
   "cell_type": "markdown",
   "metadata": {},
   "source": [
    "### Manual Calculation"
   ]
  },
  {
   "cell_type": "code",
   "execution_count": 6,
   "metadata": {},
   "outputs": [],
   "source": [
    "v = model.variables # slopes and intercept\n",
    "\n",
    "# slopes\n",
    "U = v[0]\n",
    "W = v[1]\n",
    "V = v[3]\n",
    "\n",
    "# intercepts, defaults: 0\n",
    "b1 = v[2]\n",
    "b2 = v[4]"
   ]
  },
  {
   "cell_type": "code",
   "execution_count": 7,
   "metadata": {},
   "outputs": [
    {
     "data": {
      "text/plain": [
       "(16, 32, 64)"
      ]
     },
     "execution_count": 7,
     "metadata": {},
     "output_type": "execute_result"
    }
   ],
   "source": [
    "result = []\n",
    "\n",
    "for i in range(32): # iterate time series\n",
    "    if i == 0:\n",
    "        result.append(inputs[:,i].dot(U.numpy()) + b1.numpy())\n",
    "    else:\n",
    "        result.append(inputs[:,i].dot(U.numpy()) + result[i-1].dot(W.numpy()) + b1.numpy())\n",
    "\n",
    "result = np.asarray(result)\n",
    "result = np.transpose(result,axes = [1,0,2])\n",
    "result.shape"
   ]
  },
  {
   "cell_type": "code",
   "execution_count": 8,
   "metadata": {},
   "outputs": [
    {
     "data": {
      "text/plain": [
       "array([[-17.985926  ,   0.7521892 ],\n",
       "       [  4.155034  ,  -2.7936597 ],\n",
       "       [ 19.576881  ,  -1.2679727 ],\n",
       "       [  5.401359  ,   5.6418033 ],\n",
       "       [  7.3007574 ,  -0.17100573],\n",
       "       [  4.0460234 ,   5.7486515 ],\n",
       "       [ -3.4118857 ,  -2.836771  ],\n",
       "       [ 13.079189  , -12.672295  ],\n",
       "       [  3.6396937 ,   7.1409874 ],\n",
       "       [ -5.2455664 ,   1.0911598 ],\n",
       "       [  3.5954154 ,  -4.099648  ],\n",
       "       [  0.76271486,   5.7674685 ],\n",
       "       [  2.4566226 ,   0.03880143],\n",
       "       [  6.760111  ,  -5.5375805 ],\n",
       "       [ -2.9169083 ,   1.6022457 ],\n",
       "       [ -3.7288969 ,  -1.2840161 ]], dtype=float32)"
      ]
     },
     "execution_count": 8,
     "metadata": {},
     "output_type": "execute_result"
    }
   ],
   "source": [
    "result[:,-1].dot(V.numpy()) + b2.numpy()"
   ]
  },
  {
   "cell_type": "code",
   "execution_count": 9,
   "metadata": {},
   "outputs": [
    {
     "data": {
      "text/plain": [
       "(32, 16, 64)"
      ]
     },
     "execution_count": 9,
     "metadata": {},
     "output_type": "execute_result"
    }
   ],
   "source": [
    "result = []\n",
    "for i in range(32): # iterate through time series\n",
    "    if i == 0:\n",
    "        result.append(inputs[:,i].dot(U.numpy()) + b1.numpy())\n",
    "    else:\n",
    "        result.append(inputs[:,i].dot(U.numpy()) + result[i-1].dot(W.numpy()) + b1.numpy())\n",
    "result = np.asarray(result)\n",
    "result.shape"
   ]
  },
  {
   "cell_type": "code",
   "execution_count": 10,
   "metadata": {},
   "outputs": [
    {
     "data": {
      "text/plain": [
       "array([[-17.985926  ,   0.7521892 ],\n",
       "       [  4.155034  ,  -2.7936597 ],\n",
       "       [ 19.576881  ,  -1.2679727 ],\n",
       "       [  5.401359  ,   5.6418033 ],\n",
       "       [  7.3007574 ,  -0.17100573],\n",
       "       [  4.0460234 ,   5.7486515 ],\n",
       "       [ -3.4118857 ,  -2.836771  ],\n",
       "       [ 13.079189  , -12.672295  ],\n",
       "       [  3.6396937 ,   7.1409874 ],\n",
       "       [ -5.2455664 ,   1.0911598 ],\n",
       "       [  3.5954154 ,  -4.099648  ],\n",
       "       [  0.76271486,   5.7674685 ],\n",
       "       [  2.4566226 ,   0.03880143],\n",
       "       [  6.760111  ,  -5.5375805 ],\n",
       "       [ -2.9169083 ,   1.6022457 ],\n",
       "       [ -3.7288969 ,  -1.2840161 ]], dtype=float32)"
      ]
     },
     "execution_count": 10,
     "metadata": {},
     "output_type": "execute_result"
    }
   ],
   "source": [
    "# the output of lat time\n",
    "result[-1].dot(V.numpy()) + b2.numpy()"
   ]
  }
 ],
 "metadata": {
  "kernelspec": {
   "display_name": "Python 3",
   "language": "python",
   "name": "python3"
  },
  "language_info": {
   "codemirror_mode": {
    "name": "ipython",
    "version": 3
   },
   "file_extension": ".py",
   "mimetype": "text/x-python",
   "name": "python",
   "nbconvert_exporter": "python",
   "pygments_lexer": "ipython3",
   "version": "3.7.8"
  },
  "toc": {
   "base_numbering": 1,
   "nav_menu": {},
   "number_sections": true,
   "sideBar": true,
   "skip_h1_title": false,
   "title_cell": "Table of Contents",
   "title_sidebar": "Contents",
   "toc_cell": false,
   "toc_position": {},
   "toc_section_display": true,
   "toc_window_display": false
  }
 },
 "nbformat": 4,
 "nbformat_minor": 4
}
